{
  "nbformat": 4,
  "nbformat_minor": 0,
  "metadata": {
    "colab": {
      "name": "TechMojo.ipynb",
      "provenance": [],
      "collapsed_sections": [],
      "include_colab_link": true
    },
    "kernelspec": {
      "name": "python3",
      "display_name": "Python 3"
    },
    "language_info": {
      "name": "python"
    }
  },
  "cells": [
    {
      "cell_type": "markdown",
      "metadata": {
        "id": "view-in-github",
        "colab_type": "text"
      },
      "source": [
        "<a href=\"https://colab.research.google.com/github/VasaviLagishetty/AvgTimeDifference/blob/main/TechMojo.ipynb\" target=\"_parent\"><img src=\"https://colab.research.google.com/assets/colab-badge.svg\" alt=\"Open In Colab\"/></a>"
      ]
    },
    {
      "cell_type": "code",
      "metadata": {
        "colab": {
          "base_uri": "https://localhost:8080/"
        },
        "id": "wtcieMGFi2qJ",
        "outputId": "1b6ac7f7-ec57-4b81-9e65-11cae6a3e51f"
      },
      "source": [
        "import datetime\n",
        " \n",
        "def details(value):\n",
        "    l = value.split(\", \")\n",
        "    transaction = l[0]\n",
        "    dt_string = \"\".join(l[1:3])\n",
        "    timestamp = datetime.datetime.strptime(dt_string, \"%Y – %m – %d %I:%M %p\")\n",
        "    return (l[0],timestamp)\n",
        "\n",
        "with open(\"input.txt\") as f:\n",
        "    text = f.readlines()\n",
        "    transactions = dict()\n",
        "    for i in text:\n",
        "        if i != \"\\n\":\n",
        "            transaction = details(i)\n",
        "            if transaction[0] not in transactions:\n",
        "                transactions[transaction[0]] = transaction[1]\n",
        "            else:\n",
        "                start = transactions[transaction[0]]\n",
        "                end= transaction[1]\n",
        "                difference = str(end - start)\n",
        "                days = difference.split(\", \")\n",
        "                ans,t = \"Avg. time for transaction \"+ transaction[0] + \" : \", 0\n",
        "                if len(days) == 2:\n",
        "                    t = 1\n",
        "                    ans += days[0] + \" \"\n",
        "                hours,minutes,seconds = (int(x) for x in days[t].split(\":\"))\n",
        "                if hours != 0: ans += str(hours) + \" h \"\n",
        "                if minutes != 0: ans += str(minutes) + \" min \"\n",
        "                print(ans)"
      ],
      "execution_count": 7,
      "outputs": [
        {
          "output_type": "stream",
          "text": [
            "Avg. time for transaction T1234 : 3 min \n",
            "Avg. time for transaction T1235 : 2 min \n"
          ],
          "name": "stdout"
        }
      ]
    },
    {
      "cell_type": "code",
      "metadata": {
        "colab": {
          "base_uri": "https://localhost:8080/"
        },
        "id": "ND8ozNH8i7S1",
        "outputId": "ea176575-ef4a-465e-a148-cca843d2a8de"
      },
      "source": [
        "import datetime\n",
        " \n",
        "def timestamp(value):\n",
        "    l = value.split(\", \")\n",
        "    transaction = l[0]\n",
        "    dt_string = \"\".join(l[1:3])\n",
        "    timestamp = datetime.datetime.strptime(dt_string, \"%Y – %m – %d %I:%M %p\")\n",
        "    return timestamp\n",
        " \n",
        "t1 = \"T1234, 2020 – 03 – 01 , 3:15 pm, start\"\n",
        "t2 = \"T1234, 2020 – 03 – 04 , 5:18 pm, end\"\n",
        "print(timestamp(t2) - timestamp(t1))"
      ],
      "execution_count": 8,
      "outputs": [
        {
          "output_type": "stream",
          "text": [
            "3 days, 2:03:00\n"
          ],
          "name": "stdout"
        }
      ]
    }
  ]
}