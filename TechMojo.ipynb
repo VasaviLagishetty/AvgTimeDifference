{
  "nbformat": 4,
  "nbformat_minor": 0,
  "metadata": {
    "colab": {
      "name": "TechMojo.ipynb",
      "provenance": [],
      "collapsed_sections": [],
      "include_colab_link": true
    },
    "kernelspec": {
      "name": "python3",
      "display_name": "Python 3"
    },
    "language_info": {
      "name": "python"
    }
  },
  "cells": [
    {
      "cell_type": "markdown",
      "metadata": {
        "id": "view-in-github",
        "colab_type": "text"
      },
      "source": [
        "<a href=\"https://colab.research.google.com/github/VasaviLagishetty/AvgTimeDifference/blob/main/TechMojo.ipynb\" target=\"_parent\"><img src=\"https://colab.research.google.com/assets/colab-badge.svg\" alt=\"Open In Colab\"/></a>"
      ]
    },
    {
      "cell_type": "code",
      "metadata": {
        "colab": {
          "base_uri": "https://localhost:8080/"
        },
        "id": "wtcieMGFi2qJ",
        "outputId": "7ed1f3b3-147e-4c2a-b71f-f6bb300775c7"
      },
      "source": [
        "import datetime\n",
        "\n",
        "def time(value):\n",
        "    l = value.split(\", \")\n",
        "    hour = 0\n",
        "    if l[2].endswith(\"pm\"):\n",
        "        hour = 12\n",
        "    l[2] = l[2].replace(\" pm\",'')\n",
        "    l[2] = l[2].replace(\" am\",'')\n",
        "    hour_minute = [int(x) for x in l[2].split(\":\")]\n",
        "    year, month, date = (int(x) for x in l[1].split(\" – \"))\n",
        "    return (l[0], year, month, date, hour+hour_minute[0], hour_minute[1])\n",
        "\n",
        "with open(\"input.txt\") as f:\n",
        "    text = f.readlines()\n",
        "    transactions = dict()\n",
        "    for i in text:\n",
        "        if i != \"\\n\":\n",
        "            transaction = time(i)\n",
        "            if transaction[0] not in transactions:\n",
        "                transactions[transaction[0]] = transaction[1:]\n",
        "            else:\n",
        "                start = transactions[transaction[0]]\n",
        "                end= transaction[1:]\n",
        "                start_time = datetime.datetime(start[0], start[1], start[2], start[3], start[4], 0)\n",
        "                end_time = datetime.datetime(end[0], end[1], end[2], end[3], end[4], 0)\n",
        "                difference = str(end_time - start_time)\n",
        "                days = difference.split(\", \")\n",
        "                ans,t = \"Avg. time for transaction \"+ transaction[0] + \" : \", 0\n",
        "                if len(days) == 2:\n",
        "                    t = 1\n",
        "                    ans += days[0].replace(' ','') + \" \"\n",
        "                hours,minutes,seconds = (int(x) for x in days[t].split(\":\"))\n",
        "                if hours != 0: ans += str(hours) + \"h \"\n",
        "                if minutes != 0: ans += str(minutes) + \"min \"\n",
        "                print(ans)"
      ],
      "execution_count": 115,
      "outputs": [
        {
          "output_type": "stream",
          "text": [
            "Avg. time for transaction T1234 : 1day \n",
            "Avg. time for transaction T1235 : 1day 2h 5min \n"
          ],
          "name": "stdout"
        }
      ]
    },
    {
      "cell_type": "code",
      "metadata": {
        "colab": {
          "base_uri": "https://localhost:8080/"
        },
        "id": "ND8ozNH8i7S1",
        "outputId": "15270152-b04b-4d24-b746-44ab99650f8f"
      },
      "source": [
        "import datetime\n",
        " \n",
        "def time(value):\n",
        "    l = value.split(\", \")\n",
        "    hour = 0\n",
        "    if l[2].endswith(\"pm\"):\n",
        "        hour = 12\n",
        "    l[2] = l[2].replace(\" pm\",'')\n",
        "    l[2] = l[2].replace(\" am\",'')\n",
        "    hour_minute = [int(x) for x in l[2].split(\":\")]\n",
        "    year, month, date = (int(x) for x in l[1].split(\" – \"))\n",
        "    return (l[0], year, month, date, hour+hour_minute[0], hour_minute[1])\n",
        " \n",
        "t1 = \"T1234, 2020 – 03 – 01 , 3:15 pm, start\"\n",
        "t2 = \"T1234, 2020 – 03 – 06 , 5:18 pm, end\"\n",
        "transaction1, year1, month1, date1, hour1, minute1 = time(t1)\n",
        "transaction2, year2, month2, date2, hour2, minute2 = time(t2)\n",
        "\n",
        "a = datetime.datetime(year1, month1, date1, hour1, minute1, 0)\n",
        "b = datetime.datetime(year2, month2, date2, hour2, minute2, 0)\n",
        "difference = b-a\n",
        "print(difference)"
      ],
      "execution_count": 117,
      "outputs": [
        {
          "output_type": "stream",
          "text": [
            "5 days, 2:03:00\n"
          ],
          "name": "stdout"
        }
      ]
    }
  ]
}